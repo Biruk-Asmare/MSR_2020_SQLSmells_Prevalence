{
 "cells": [
  {
   "cell_type": "code",
   "execution_count": 1,
   "metadata": {},
   "outputs": [],
   "source": [
    "import pandas as pd\n",
    "from pandasql import sqldf\n",
    "from pandasql import sqldf\n",
    "import seaborn as sns"
   ]
  },
  {
   "cell_type": "code",
   "execution_count": 2,
   "metadata": {},
   "outputs": [],
   "source": [
    "#remove\n",
    "df=pd.read_csv(\"survivival_data_with_version_stats.csv\")\n"
   ]
  },
  {
   "cell_type": "code",
   "execution_count": 3,
   "metadata": {},
   "outputs": [
    {
     "data": {
      "text/html": [
       "<div>\n",
       "<style scoped>\n",
       "    .dataframe tbody tr th:only-of-type {\n",
       "        vertical-align: middle;\n",
       "    }\n",
       "\n",
       "    .dataframe tbody tr th {\n",
       "        vertical-align: top;\n",
       "    }\n",
       "\n",
       "    .dataframe thead th {\n",
       "        text-align: right;\n",
       "    }\n",
       "</style>\n",
       "<table border=\"1\" class=\"dataframe\">\n",
       "  <thead>\n",
       "    <tr style=\"text-align: right;\">\n",
       "      <th></th>\n",
       "      <th>file_id</th>\n",
       "      <th>projectGroup</th>\n",
       "      <th>category</th>\n",
       "      <th>smellType</th>\n",
       "      <th>status</th>\n",
       "      <th>tInit</th>\n",
       "      <th>tFinal</th>\n",
       "      <th>first</th>\n",
       "      <th>last</th>\n",
       "    </tr>\n",
       "  </thead>\n",
       "  <tbody>\n",
       "    <tr>\n",
       "      <th>2678</th>\n",
       "      <td>H11334</td>\n",
       "      <td>H</td>\n",
       "      <td>Business</td>\n",
       "      <td>LongParameterList</td>\n",
       "      <td>1</td>\n",
       "      <td>2014-07-29 13:49:34</td>\n",
       "      <td>2014-09-29 17:54:00</td>\n",
       "      <td>1</td>\n",
       "      <td>0</td>\n",
       "    </tr>\n",
       "    <tr>\n",
       "      <th>2679</th>\n",
       "      <td>H149531</td>\n",
       "      <td>H</td>\n",
       "      <td>Business</td>\n",
       "      <td>LongParameterList</td>\n",
       "      <td>0</td>\n",
       "      <td>2004-12-20 21:27:30</td>\n",
       "      <td>2006-02-09 19:28:45</td>\n",
       "      <td>1</td>\n",
       "      <td>1</td>\n",
       "    </tr>\n",
       "    <tr>\n",
       "      <th>2680</th>\n",
       "      <td>H15187</td>\n",
       "      <td>H</td>\n",
       "      <td>Library</td>\n",
       "      <td>LongParameterList</td>\n",
       "      <td>0</td>\n",
       "      <td>2010-10-14 10:09:44</td>\n",
       "      <td>2010-12-01 19:20:57</td>\n",
       "      <td>1</td>\n",
       "      <td>1</td>\n",
       "    </tr>\n",
       "    <tr>\n",
       "      <th>2681</th>\n",
       "      <td>H16012</td>\n",
       "      <td>H</td>\n",
       "      <td>Library</td>\n",
       "      <td>LongParameterList</td>\n",
       "      <td>0</td>\n",
       "      <td>2010-10-14 10:09:44</td>\n",
       "      <td>2010-12-01 19:20:57</td>\n",
       "      <td>1</td>\n",
       "      <td>1</td>\n",
       "    </tr>\n",
       "    <tr>\n",
       "      <th>2682</th>\n",
       "      <td>H34365</td>\n",
       "      <td>H</td>\n",
       "      <td>Business</td>\n",
       "      <td>LongParameterList</td>\n",
       "      <td>0</td>\n",
       "      <td>2015-07-01 14:13:49</td>\n",
       "      <td>2015-12-01 14:29:32</td>\n",
       "      <td>1</td>\n",
       "      <td>1</td>\n",
       "    </tr>\n",
       "  </tbody>\n",
       "</table>\n",
       "</div>"
      ],
      "text/plain": [
       "      file_id projectGroup  category          smellType  status  \\\n",
       "2678   H11334            H  Business  LongParameterList       1   \n",
       "2679  H149531            H  Business  LongParameterList       0   \n",
       "2680   H15187            H   Library  LongParameterList       0   \n",
       "2681   H16012            H   Library  LongParameterList       0   \n",
       "2682   H34365            H  Business  LongParameterList       0   \n",
       "\n",
       "                    tInit               tFinal  first  last  \n",
       "2678  2014-07-29 13:49:34  2014-09-29 17:54:00      1     0  \n",
       "2679  2004-12-20 21:27:30  2006-02-09 19:28:45      1     1  \n",
       "2680  2010-10-14 10:09:44  2010-12-01 19:20:57      1     1  \n",
       "2681  2010-10-14 10:09:44  2010-12-01 19:20:57      1     1  \n",
       "2682  2015-07-01 14:13:49  2015-12-01 14:29:32      1     1  "
      ]
     },
     "execution_count": 3,
     "metadata": {},
     "output_type": "execute_result"
    }
   ],
   "source": [
    "#remove\n",
    "df.tail()"
   ]
  },
  {
   "cell_type": "code",
   "execution_count": 4,
   "metadata": {},
   "outputs": [
    {
     "data": {
      "text/plain": [
       "Index(['file_id', 'projectGroup', 'category', 'smellType', 'status', 'tInit',\n",
       "       'tFinal', 'first', 'last'],\n",
       "      dtype='object')"
      ]
     },
     "execution_count": 4,
     "metadata": {},
     "output_type": "execute_result"
    }
   ],
   "source": [
    "df.columns"
   ]
  },
  {
   "cell_type": "code",
   "execution_count": 5,
   "metadata": {},
   "outputs": [
    {
     "data": {
      "text/plain": [
       "smellType\n",
       "FEAR_OF_THE_UNKNOWN      29\n",
       "IMPLICIT_COLUMNS        272\n",
       "LongMethod             1453\n",
       "LongParameterList       619\n",
       "Name: first, dtype: int64"
      ]
     },
     "execution_count": 5,
     "metadata": {},
     "output_type": "execute_result"
    }
   ],
   "source": [
    "df.groupby('smellType').sum()['first']"
   ]
  },
  {
   "cell_type": "code",
   "execution_count": 6,
   "metadata": {},
   "outputs": [
    {
     "data": {
      "text/plain": [
       "smellType\n",
       "FEAR_OF_THE_UNKNOWN      40\n",
       "IMPLICIT_COLUMNS        304\n",
       "LongMethod             1609\n",
       "LongParameterList       730\n",
       "Name: file_id, dtype: int64"
      ]
     },
     "execution_count": 6,
     "metadata": {},
     "output_type": "execute_result"
    }
   ],
   "source": [
    "df.groupby('smellType').count()['file_id']"
   ]
  },
  {
   "cell_type": "markdown",
   "metadata": {},
   "source": [
    "<h3>Process tInit and tFinal</h3>"
   ]
  },
  {
   "cell_type": "code",
   "execution_count": 7,
   "metadata": {},
   "outputs": [],
   "source": [
    "df['tInit']=pd.to_datetime(df.tInit)"
   ]
  },
  {
   "cell_type": "code",
   "execution_count": 8,
   "metadata": {},
   "outputs": [],
   "source": [
    "df['tFinal']=pd.to_datetime(df.tFinal)"
   ]
  },
  {
   "cell_type": "code",
   "execution_count": 9,
   "metadata": {},
   "outputs": [],
   "source": [
    "df['T']=df['tFinal']-df['tInit']"
   ]
  },
  {
   "cell_type": "code",
   "execution_count": 10,
   "metadata": {},
   "outputs": [
    {
     "data": {
      "text/plain": [
       "file_id                  object\n",
       "projectGroup             object\n",
       "category                 object\n",
       "smellType                object\n",
       "status                    int64\n",
       "tInit            datetime64[ns]\n",
       "tFinal           datetime64[ns]\n",
       "first                     int64\n",
       "last                      int64\n",
       "T               timedelta64[ns]\n",
       "dtype: object"
      ]
     },
     "execution_count": 10,
     "metadata": {},
     "output_type": "execute_result"
    }
   ],
   "source": [
    "df.dtypes"
   ]
  },
  {
   "cell_type": "code",
   "execution_count": 11,
   "metadata": {},
   "outputs": [],
   "source": [
    "df['days'] = df['T'].apply(lambda x: x.days)\n"
   ]
  },
  {
   "cell_type": "code",
   "execution_count": 12,
   "metadata": {},
   "outputs": [],
   "source": [
    "df['DBsmell']= df['smellType'].apply(lambda x: (str(x)=='FEAR_OF_THE_UNKNOWN' or str(x)=='IMPLICIT_COLUMNS'))"
   ]
  },
  {
   "cell_type": "code",
   "execution_count": 13,
   "metadata": {},
   "outputs": [
    {
     "data": {
      "text/html": [
       "<div>\n",
       "<style scoped>\n",
       "    .dataframe tbody tr th:only-of-type {\n",
       "        vertical-align: middle;\n",
       "    }\n",
       "\n",
       "    .dataframe tbody tr th {\n",
       "        vertical-align: top;\n",
       "    }\n",
       "\n",
       "    .dataframe thead th {\n",
       "        text-align: right;\n",
       "    }\n",
       "</style>\n",
       "<table border=\"1\" class=\"dataframe\">\n",
       "  <thead>\n",
       "    <tr style=\"text-align: right;\">\n",
       "      <th></th>\n",
       "      <th>file_id</th>\n",
       "      <th>projectGroup</th>\n",
       "      <th>category</th>\n",
       "      <th>smellType</th>\n",
       "      <th>status</th>\n",
       "      <th>tInit</th>\n",
       "      <th>tFinal</th>\n",
       "      <th>first</th>\n",
       "      <th>last</th>\n",
       "      <th>T</th>\n",
       "      <th>days</th>\n",
       "    </tr>\n",
       "    <tr>\n",
       "      <th>DBsmell</th>\n",
       "      <th></th>\n",
       "      <th></th>\n",
       "      <th></th>\n",
       "      <th></th>\n",
       "      <th></th>\n",
       "      <th></th>\n",
       "      <th></th>\n",
       "      <th></th>\n",
       "      <th></th>\n",
       "      <th></th>\n",
       "      <th></th>\n",
       "    </tr>\n",
       "  </thead>\n",
       "  <tbody>\n",
       "    <tr>\n",
       "      <th>False</th>\n",
       "      <td>2339</td>\n",
       "      <td>2339</td>\n",
       "      <td>2339</td>\n",
       "      <td>2339</td>\n",
       "      <td>2339</td>\n",
       "      <td>2339</td>\n",
       "      <td>2339</td>\n",
       "      <td>2339</td>\n",
       "      <td>2339</td>\n",
       "      <td>2339</td>\n",
       "      <td>2339</td>\n",
       "    </tr>\n",
       "    <tr>\n",
       "      <th>True</th>\n",
       "      <td>344</td>\n",
       "      <td>344</td>\n",
       "      <td>344</td>\n",
       "      <td>344</td>\n",
       "      <td>344</td>\n",
       "      <td>344</td>\n",
       "      <td>344</td>\n",
       "      <td>344</td>\n",
       "      <td>344</td>\n",
       "      <td>344</td>\n",
       "      <td>344</td>\n",
       "    </tr>\n",
       "  </tbody>\n",
       "</table>\n",
       "</div>"
      ],
      "text/plain": [
       "         file_id  projectGroup  category  smellType  status  tInit  tFinal  \\\n",
       "DBsmell                                                                      \n",
       "False       2339          2339      2339       2339    2339   2339    2339   \n",
       "True         344           344       344        344     344    344     344   \n",
       "\n",
       "         first  last     T  days  \n",
       "DBsmell                           \n",
       "False     2339  2339  2339  2339  \n",
       "True       344   344   344   344  "
      ]
     },
     "execution_count": 13,
     "metadata": {},
     "output_type": "execute_result"
    }
   ],
   "source": [
    "df.groupby('DBsmell').count()"
   ]
  },
  {
   "cell_type": "code",
   "execution_count": 14,
   "metadata": {},
   "outputs": [
    {
     "data": {
      "text/plain": [
       "file_id                  object\n",
       "projectGroup             object\n",
       "category                 object\n",
       "smellType                object\n",
       "status                    int64\n",
       "tInit            datetime64[ns]\n",
       "tFinal           datetime64[ns]\n",
       "first                     int64\n",
       "last                      int64\n",
       "T               timedelta64[ns]\n",
       "days                      int64\n",
       "DBsmell                    bool\n",
       "dtype: object"
      ]
     },
     "execution_count": 14,
     "metadata": {},
     "output_type": "execute_result"
    }
   ],
   "source": [
    "df.dtypes"
   ]
  },
  {
   "cell_type": "code",
   "execution_count": 15,
   "metadata": {},
   "outputs": [
    {
     "data": {
      "text/plain": [
       "8"
      ]
     },
     "execution_count": 15,
     "metadata": {},
     "output_type": "execute_result"
    }
   ],
   "source": [
    "df['days'].min()"
   ]
  },
  {
   "cell_type": "code",
   "execution_count": 16,
   "metadata": {},
   "outputs": [
    {
     "data": {
      "text/plain": [
       "count    2683.000000\n",
       "mean     1250.174804\n",
       "std      1119.528287\n",
       "min         8.000000\n",
       "25%       334.000000\n",
       "50%       870.000000\n",
       "75%      2093.000000\n",
       "max      6778.000000\n",
       "Name: days, dtype: float64"
      ]
     },
     "execution_count": 16,
     "metadata": {},
     "output_type": "execute_result"
    }
   ],
   "source": [
    "df['days'].describe()"
   ]
  },
  {
   "cell_type": "code",
   "execution_count": 17,
   "metadata": {},
   "outputs": [],
   "source": [
    "df.to_csv('Dataset_Survivial_analysis.csv',index=False)"
   ]
  }
 ],
 "metadata": {
  "kernelspec": {
   "display_name": "Python 3",
   "language": "python",
   "name": "python3"
  },
  "language_info": {
   "codemirror_mode": {
    "name": "ipython",
    "version": 3
   },
   "file_extension": ".py",
   "mimetype": "text/x-python",
   "name": "python",
   "nbconvert_exporter": "python",
   "pygments_lexer": "ipython3",
   "version": "3.7.3"
  }
 },
 "nbformat": 4,
 "nbformat_minor": 2
}
